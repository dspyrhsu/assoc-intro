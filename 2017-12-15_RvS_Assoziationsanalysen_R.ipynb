{
 "cells": [
  {
   "cell_type": "markdown",
   "metadata": {},
   "source": [
    "# Assoziationsanalyse - R-Beispiel\n",
    "> Dieses Beispiel folgt demjenigen, welches [hier](http://rpubs.com/emzak208/281776) seitens [RStudio](https://www.rstudio.com/) bereit gestellt wird, mit dem Unterschied, dass wir den vom Paket *arules* mitgelieferten Datensatz direkt verwenden. Eine ausführliche Einführung in das Paket sowie die zugehörige Theorie findet man bei [CRAN](https://cran.r-project.org/web/packages/arules/vignettes/arules.pdf)."
   ]
  },
  {
   "cell_type": "markdown",
   "metadata": {},
   "source": [
    "Falls noch nicht geschehen, so muss man zunächst das Paket **arules** installieren (durch Entfernung des Kommentarzeichens in der folgenden Codezelle)."
   ]
  },
  {
   "cell_type": "code",
   "execution_count": 1,
   "metadata": {},
   "outputs": [
    {
     "name": "stderr",
     "output_type": "stream",
     "text": [
      "Updating HTML index of packages in '.Library'\n",
      "Making 'packages.html' ... done\n"
     ]
    }
   ],
   "source": [
    "# install.packages(\"arules\")"
   ]
  },
  {
   "cell_type": "markdown",
   "metadata": {},
   "source": [
    "Nun kann man mit dem Paket arbeiten."
   ]
  },
  {
   "cell_type": "code",
   "execution_count": 1,
   "metadata": {},
   "outputs": [
    {
     "name": "stderr",
     "output_type": "stream",
     "text": [
      "Loading required package: Matrix\n",
      "\n",
      "Attaching package: ‘arules’\n",
      "\n",
      "The following objects are masked from ‘package:base’:\n",
      "\n",
      "    abbreviate, write\n",
      "\n"
     ]
    }
   ],
   "source": [
    "library(arules)"
   ]
  },
  {
   "cell_type": "markdown",
   "metadata": {},
   "source": [
    "Wir vervenden den mit dem Paket *arules* mitgelieferten Datensatz *\"Groceries\"*."
   ]
  },
  {
   "cell_type": "code",
   "execution_count": 2,
   "metadata": {},
   "outputs": [
    {
     "data": {
      "text/plain": [
       "transactions as itemMatrix in sparse format with\n",
       " 9835 rows (elements/itemsets/transactions) and\n",
       " 169 columns (items) and a density of 0.02609146 \n",
       "\n",
       "most frequent items:\n",
       "      whole milk other vegetables       rolls/buns             soda \n",
       "            2513             1903             1809             1715 \n",
       "          yogurt          (Other) \n",
       "            1372            34055 \n",
       "\n",
       "element (itemset/transaction) length distribution:\n",
       "sizes\n",
       "   1    2    3    4    5    6    7    8    9   10   11   12   13   14   15   16 \n",
       "2159 1643 1299 1005  855  645  545  438  350  246  182  117   78   77   55   46 \n",
       "  17   18   19   20   21   22   23   24   26   27   28   29   32 \n",
       "  29   14   14    9   11    4    6    1    1    1    1    3    1 \n",
       "\n",
       "   Min. 1st Qu.  Median    Mean 3rd Qu.    Max. \n",
       "  1.000   2.000   3.000   4.409   6.000  32.000 \n",
       "\n",
       "includes extended item information - examples:\n",
       "       labels  level2           level1\n",
       "1 frankfurter sausage meat and sausage\n",
       "2     sausage sausage meat and sausage\n",
       "3  liver loaf sausage meat and sausage"
      ]
     },
     "metadata": {},
     "output_type": "display_data"
    }
   ],
   "source": [
    "data(\"Groceries\")\n",
    "g <- Groceries\n",
    "summary(g)"
   ]
  },
  {
   "cell_type": "markdown",
   "metadata": {},
   "source": [
    "Wir haben also einen Datensatz mit 9835 Transaktionen, in denen 169 verschiedene Artikel (*items*) vorkommen. Dieser wird wieder als *dünnbesetzte Matrix* (*sparse format*) abgespeichert.\n",
    "Am weitaus häufigsten wurde Vollmilch gekauft (in mehr als ein Viertel der Fälle, d.h. mit einem Support von über 25%). Am häufigsten wurde nur ein einzelner (der betrachteten) Artikel gekauft, in einem Fall aber sogar 32 dieser Artikel zusammen: Im Mittel (als Maß hierfür wird der *Median* genommen) werden drei der Artikel zusammen gekauft.\n",
    "Der Datensatz enthält außerdem u.U. *Hierarchien*, so dass eine *Frankfurter* (oder eine generische *Wurst*) eben zur Produktgruppe *Wurst* und diese wiederum zur Hauptgruppe *Fleisch und Wurst* gehört.\n",
    "\n",
    "## Vorbetrachtungen\n",
    "\n",
    "Nun betrachten wir die ersten fünf Transaktionen. Wir sehen, dass es sich jeweils einfach um eine Auflistung der gekauften Artikel handelt."
   ]
  },
  {
   "cell_type": "code",
   "execution_count": 3,
   "metadata": {},
   "outputs": [
    {
     "name": "stdout",
     "output_type": "stream",
     "text": [
      "    items                     \n",
      "[1] {citrus fruit,            \n",
      "     semi-finished bread,     \n",
      "     margarine,               \n",
      "     ready soups}             \n",
      "[2] {tropical fruit,          \n",
      "     yogurt,                  \n",
      "     coffee}                  \n",
      "[3] {whole milk}              \n",
      "[4] {pip fruit,               \n",
      "     yogurt,                  \n",
      "     cream cheese ,           \n",
      "     meat spreads}            \n",
      "[5] {other vegetables,        \n",
      "     whole milk,              \n",
      "     condensed milk,          \n",
      "     long life bakery product}\n"
     ]
    }
   ],
   "source": [
    "inspect(g[1:5])"
   ]
  },
  {
   "cell_type": "markdown",
   "metadata": {},
   "source": [
    "Es ist auch möglich, sich zu veranschaulichen, welche Position die gekauften Artikel der ersten fünf Transaktionen innerhalb der gesamten 169 Artikel haben durch Verwendung von *image*."
   ]
  },
  {
   "cell_type": "code",
   "execution_count": 4,
   "metadata": {},
   "outputs": [
    {
     "data": {},
     "metadata": {},
     "output_type": "display_data"
    },
    {
     "data": {
      "image/png": "[encoded data removed]",
      "text/plain": [
       "plot without title"
      ]
     },
     "metadata": {},
     "output_type": "display_data"
    }
   ],
   "source": [
    "image(g[1:5])"
   ]
  },
  {
   "cell_type": "markdown",
   "metadata": {},
   "source": [
    "Was man hier sieht ist, dass *implizit* eine dünnbesetzte Matrix zur Repräsentation der Itemsets genommen wird. Dabei entsprechen die Spaltenüberschriften den Items und die Zeilen den Transaktionen, so dass für die erste Transaktion unseres Groceries-Datensatzes also eine 1 in den Spalten `citrus fruit`, `semi-finished bread`, `margarine` und `ready soups` der Matrix steht und sonst überall eine 0. In der obigen Visualisierung sehen wir dann ein kleines schwarzes Quadrat dort, wo die 1 steht und sonst eine weiße Fläche. \n",
    "\n",
    "Im Übrigen ist die Struktur der Matrix damit genau die gleiche wie für ein *Vokabular* eines [*Count Vectorizers*](http://scikit-learn.org/stable/modules/generated/sklearn.feature_extraction.text.CountVectorizer.html) bei der Textklassifikation. Hier liegt dem aber ein anderer Ansatz zugrunde, nämlich die [Transformation kategorialer Variablen](http://pbpython.com/categorical-encoding.html) hier speziell durch [One-Hot_Encoding](https://machinelearningmastery.com/why-one-hot-encode-data-in-machine-learning/). Dies ist einfach nur der Name für den oben genannten Ansatz der Matrixkonstruktion.\n",
    "\n",
    "Wir können uns auch ein Bild der Dünnbesetztheit der Matrix machen, indem wir 100 zufällig ausgewählte Transaktionen auf diese Weise visualisieren."
   ]
  },
  {
   "cell_type": "code",
   "execution_count": 5,
   "metadata": {},
   "outputs": [
    {
     "data": {},
     "metadata": {},
     "output_type": "display_data"
    },
    {
     "data": {
      "image/png": "[encoded data removed]",
      "text/plain": [
       "plot without title"
      ]
     },
     "metadata": {},
     "output_type": "display_data"
    }
   ],
   "source": [
    "image(sample(g, 100))"
   ]
  },
  {
   "cell_type": "markdown",
   "metadata": {},
   "source": [
    "Normaler Weise interessieren wir uns bei Aooziationsanalysen aber für (relative) Häufigkeiten. Daher schauen wir uns für die ersten drei Artikel deren relative Häufigkeit an."
   ]
  },
  {
   "cell_type": "code",
   "execution_count": 6,
   "metadata": {},
   "outputs": [
    {
     "data": {
      "text/html": [
       "<dl class=dl-horizontal>\n",
       "\t<dt>frankfurter</dt>\n",
       "\t\t<dd>0.0589730554143366</dd>\n",
       "\t<dt>sausage</dt>\n",
       "\t\t<dd>0.0939501779359431</dd>\n",
       "\t<dt>liver loaf</dt>\n",
       "\t\t<dd>0.00508388408744281</dd>\n",
       "</dl>\n"
      ],
      "text/latex": [
       "\\begin{description*}\n",
       "\\item[frankfurter] 0.0589730554143366\n",
       "\\item[sausage] 0.0939501779359431\n",
       "\\item[liver loaf] 0.00508388408744281\n",
       "\\end{description*}\n"
      ],
      "text/markdown": [
       "frankfurter\n",
       ":   0.0589730554143366sausage\n",
       ":   0.0939501779359431liver loaf\n",
       ":   0.00508388408744281\n",
       "\n"
      ],
      "text/plain": [
       "frankfurter     sausage  liver loaf \n",
       "0.058973055 0.093950178 0.005083884 "
      ]
     },
     "metadata": {},
     "output_type": "display_data"
    }
   ],
   "source": [
    "itemFrequency(g[, 1:3])"
   ]
  },
  {
   "cell_type": "markdown",
   "metadata": {},
   "source": [
    "Das Ganze können wir auch visualisieren, wobei wir nur diejenigen Artikel haben möchten, die in mindestens 10% der Transaktionen gekauft wurden."
   ]
  },
  {
   "cell_type": "code",
   "execution_count": 7,
   "metadata": {},
   "outputs": [
    {
     "data": {
      "image/png": "[encoded data removed]",
      "text/plain": [
       "plot without title"
      ]
     },
     "metadata": {},
     "output_type": "display_data"
    }
   ],
   "source": [
    "itemFrequencyPlot(g, support = 0.1)"
   ]
  },
  {
   "cell_type": "markdown",
   "metadata": {},
   "source": [
    "Alternativ können wir aber auch die 20 am häufigsten gekauften Artikel mit dem zugehörigen Support plotten."
   ]
  },
  {
   "cell_type": "code",
   "execution_count": 8,
   "metadata": {},
   "outputs": [
    {
     "data": {
      "image/png": "[encoded data removed]",
      "text/plain": [
       "plot without title"
      ]
     },
     "metadata": {},
     "output_type": "display_data"
    }
   ],
   "source": [
    "itemFrequencyPlot(g, topN = 20)"
   ]
  },
  {
   "cell_type": "markdown",
   "metadata": {},
   "source": [
    "## Ermittlung der Regeln\n",
    "\n",
    "Zunächst versuchen wir mit den Defaulteinstellungen des A-priori-Algorithmus auszukommen."
   ]
  },
  {
   "cell_type": "code",
   "execution_count": 9,
   "metadata": {},
   "outputs": [
    {
     "name": "stdout",
     "output_type": "stream",
     "text": [
      "Apriori\n",
      "\n",
      "Parameter specification:\n",
      " confidence minval smax arem  aval originalSupport maxtime support minlen\n",
      "        0.8    0.1    1 none FALSE            TRUE       5     0.1      1\n",
      " maxlen target   ext\n",
      "     10  rules FALSE\n",
      "\n",
      "Algorithmic control:\n",
      " filter tree heap memopt load sort verbose\n",
      "    0.1 TRUE TRUE  FALSE TRUE    2    TRUE\n",
      "\n",
      "Absolute minimum support count: 983 \n",
      "\n",
      "set item appearances ...[0 item(s)] done [0.00s].\n",
      "set transactions ...[169 item(s), 9835 transaction(s)] done [0.01s].\n",
      "sorting and recoding items ... [8 item(s)] done [0.00s].\n",
      "creating transaction tree ... done [0.00s].\n",
      "checking subsets of size 1 2 done [0.00s].\n",
      "writing ... [0 rule(s)] done [0.00s].\n",
      "creating S4 object  ... done [0.00s].\n"
     ]
    },
    {
     "data": {
      "text/plain": [
       "set of 0 rules "
      ]
     },
     "metadata": {},
     "output_type": "display_data"
    }
   ],
   "source": [
    "apriori(g)"
   ]
  },
  {
   "cell_type": "markdown",
   "metadata": {},
   "source": [
    "Leider führt das dazu, dass keine einzige Regel aufgestellt werden kann, da die Kombination eines Support von mindestens 10% und einer Confidence von mindestens 80% nicht erfüllt werden kann. Wir müssen daher sinnvollere Parameter wählen.\n",
    "\n",
    "Hier wäre das ein Support von 6 Promille (d.h., dass es mindestens 59 Transaktionen gibt, in denen die Items (zusammen) vorkommen). Als Confidence wählen wir ein Viertel und wir möchten, dass eine Regel immer mindestens zwei Artikel beinhaltet."
   ]
  },
  {
   "cell_type": "code",
   "execution_count": 10,
   "metadata": {},
   "outputs": [
    {
     "name": "stdout",
     "output_type": "stream",
     "text": [
      "Apriori\n",
      "\n",
      "Parameter specification:\n",
      " confidence minval smax arem  aval originalSupport maxtime support minlen\n",
      "       0.25    0.1    1 none FALSE            TRUE       5   0.006      2\n",
      " maxlen target   ext\n",
      "     10  rules FALSE\n",
      "\n",
      "Algorithmic control:\n",
      " filter tree heap memopt load sort verbose\n",
      "    0.1 TRUE TRUE  FALSE TRUE    2    TRUE\n",
      "\n",
      "Absolute minimum support count: 59 \n",
      "\n",
      "set item appearances ...[0 item(s)] done [0.00s].\n",
      "set transactions ...[169 item(s), 9835 transaction(s)] done [0.01s].\n",
      "sorting and recoding items ... [109 item(s)] done [0.00s].\n",
      "creating transaction tree ... done [0.01s].\n",
      "checking subsets of size 1 2 3 4 done [0.01s].\n",
      "writing ... [463 rule(s)] done [0.00s].\n",
      "creating S4 object  ... done [0.00s].\n"
     ]
    }
   ],
   "source": [
    "grules <- apriori(g, parameter = list(support = 0.006, confidence = 0.25, minlen = 2))"
   ]
  },
  {
   "cell_type": "markdown",
   "metadata": {},
   "source": [
    "Wir erhalten also 463 Regeln, was wir auch nochmal explizit als Ausgabe bekommen, wenn wir einfach *grules* anschauen wollen. Mehr informationen liefert dann wieder die Zusammenfassung."
   ]
  },
  {
   "cell_type": "code",
   "execution_count": 11,
   "metadata": {},
   "outputs": [
    {
     "data": {
      "text/plain": [
       "set of 463 rules "
      ]
     },
     "metadata": {},
     "output_type": "display_data"
    }
   ],
   "source": [
    "grules"
   ]
  },
  {
   "cell_type": "code",
   "execution_count": 12,
   "metadata": {},
   "outputs": [
    {
     "data": {
      "text/plain": [
       "set of 463 rules\n",
       "\n",
       "rule length distribution (lhs + rhs):sizes\n",
       "  2   3   4 \n",
       "150 297  16 \n",
       "\n",
       "   Min. 1st Qu.  Median    Mean 3rd Qu.    Max. \n",
       "  2.000   2.000   3.000   2.711   3.000   4.000 \n",
       "\n",
       "summary of quality measures:\n",
       "    support           confidence          lift            count      \n",
       " Min.   :0.006101   Min.   :0.2500   Min.   :0.9932   Min.   : 60.0  \n",
       " 1st Qu.:0.007117   1st Qu.:0.2971   1st Qu.:1.6229   1st Qu.: 70.0  \n",
       " Median :0.008744   Median :0.3554   Median :1.9332   Median : 86.0  \n",
       " Mean   :0.011539   Mean   :0.3786   Mean   :2.0351   Mean   :113.5  \n",
       " 3rd Qu.:0.012303   3rd Qu.:0.4495   3rd Qu.:2.3565   3rd Qu.:121.0  \n",
       " Max.   :0.074835   Max.   :0.6600   Max.   :3.9565   Max.   :736.0  \n",
       "\n",
       "mining info:\n",
       " data ntransactions support confidence\n",
       "    g          9835   0.006       0.25"
      ]
     },
     "metadata": {},
     "output_type": "display_data"
    }
   ],
   "source": [
    "summary(grules)"
   ]
  },
  {
   "cell_type": "markdown",
   "metadata": {},
   "source": [
    "Wollen wir die Regeln selbst anschauen, so benötigen wir *inspect*."
   ]
  },
  {
   "cell_type": "code",
   "execution_count": 13,
   "metadata": {},
   "outputs": [
    {
     "name": "stdout",
     "output_type": "stream",
     "text": [
      "    lhs             rhs               support     confidence lift     count\n",
      "[1] {pot plants} => {whole milk}      0.006914082 0.4000000  1.565460 68   \n",
      "[2] {pasta}      => {whole milk}      0.006100661 0.4054054  1.586614 60   \n",
      "[3] {herbs}      => {root vegetables} 0.007015760 0.4312500  3.956477 69   \n"
     ]
    }
   ],
   "source": [
    "inspect(grules[1:3])"
   ]
  },
  {
   "cell_type": "markdown",
   "metadata": {},
   "source": [
    "Wie man sieht sind nicht alle Regeln offensichtlich und vielleicht müsste man die Parameter noch ein wenig anpassen, um nicht zu gleuben , dass Topfpflanzen ein guter Indikator für Vollmilch sind ... (aber vielleicht liegt dem ja auch eine geheime Wahrheit zugrunde ...).\n",
    "\n",
    "Interessantere Aussagen dürfte man bekommen, wenn man sich die Regeln mit dem höchsten *Lift* ansieht."
   ]
  },
  {
   "cell_type": "code",
   "execution_count": 14,
   "metadata": {},
   "outputs": [
    {
     "name": "stdout",
     "output_type": "stream",
     "text": [
      "    lhs                   rhs                      support confidence     lift count\n",
      "[1] {herbs}            => {root vegetables}    0.007015760  0.4312500 3.956477    69\n",
      "[2] {berries}          => {whipped/sour cream} 0.009049314  0.2721713 3.796886    89\n",
      "[3] {tropical fruit,                                                                \n",
      "     other vegetables,                                                              \n",
      "     whole milk}       => {root vegetables}    0.007015760  0.4107143 3.768074    69\n",
      "[4] {beef,                                                                          \n",
      "     other vegetables} => {root vegetables}    0.007930859  0.4020619 3.688692    78\n",
      "[5] {tropical fruit,                                                                \n",
      "     other vegetables} => {pip fruit}          0.009456024  0.2634561 3.482649    93\n"
     ]
    }
   ],
   "source": [
    "inspect(sort(grules, by = \"lift\")[1:5])"
   ]
  },
  {
   "cell_type": "markdown",
   "metadata": {},
   "source": [
    "Möglicherweise sieht man sich dann, inspiriert durch die zweite Regel, an, welche weiteren Regeln es gibt, die mit \"Beeren\" zu tun haben."
   ]
  },
  {
   "cell_type": "code",
   "execution_count": 15,
   "metadata": {},
   "outputs": [
    {
     "name": "stdout",
     "output_type": "stream",
     "text": [
      "    lhs          rhs                  support     confidence lift     count\n",
      "[1] {berries} => {whipped/sour cream} 0.009049314 0.2721713  3.796886  89  \n",
      "[2] {berries} => {yogurt}             0.010574479 0.3180428  2.279848 104  \n",
      "[3] {berries} => {other vegetables}   0.010269446 0.3088685  1.596280 101  \n",
      "[4] {berries} => {whole milk}         0.011794611 0.3547401  1.388328 116  \n"
     ]
    }
   ],
   "source": [
    "berryrules <- subset(grules, items %in% \"berries\")\n",
    "inspect(berryrules)"
   ]
  },
  {
   "cell_type": "markdown",
   "metadata": {},
   "source": [
    "Oder wir interessieren uns nur für diejenigen Regeln, bei denen es zu einem *Substitutionseffekt* kommt."
   ]
  },
  {
   "cell_type": "code",
   "execution_count": 16,
   "metadata": {},
   "outputs": [
    {
     "name": "stdout",
     "output_type": "stream",
     "text": [
      "    lhs               rhs          support    confidence lift      count\n",
      "[1] {bottled beer} => {whole milk} 0.02043721 0.2537879  0.9932367 201  \n"
     ]
    }
   ],
   "source": [
    "substrules <- subset(grules, lift < 1.0)\n",
    "inspect(sort(substrules, by= \"lift\", ascending=False))"
   ]
  },
  {
   "cell_type": "code",
   "execution_count": 17,
   "metadata": {},
   "outputs": [
    {
     "name": "stdout",
     "output_type": "stream",
     "text": [
      "'data.frame':\t463 obs. of  5 variables:\n",
      " $ rules     : Factor w/ 463 levels \"{baking powder} => {other vegetables}\",..: 237 204 128 127 129 238 317 21 89 90 ...\n",
      " $ support   : num  0.00691 0.0061 0.00702 0.00773 0.00773 ...\n",
      " $ confidence: num  0.4 0.405 0.431 0.475 0.475 ...\n",
      " $ lift      : num  1.57 1.59 3.96 2.45 1.86 ...\n",
      " $ count     : num  68 60 69 76 76 69 70 67 63 88 ...\n"
     ]
    }
   ],
   "source": [
    "# falls gewünscht kann man das auch exportieren ...\n",
    "# write(grules, file = \"groceryrules.csv\", sep = \",\", quote = TRUE, row.names = FALSE)\n",
    "\n",
    "# oder in Form eines Data Frames damit weiter arbeiten\n",
    "grules_df <- as(grules, \"data.frame\")\n",
    "\n",
    "str(grules_df)"
   ]
  },
  {
   "cell_type": "code",
   "execution_count": 18,
   "metadata": {},
   "outputs": [
    {
     "data": {
      "text/html": [
       "<table>\n",
       "<thead><tr><th scope=col>rules</th><th scope=col>support</th><th scope=col>confidence</th><th scope=col>lift</th><th scope=col>count</th></tr></thead>\n",
       "<tbody>\n",
       "\t<tr><td><span style=white-space:pre-wrap>{pot plants} =&gt; {whole milk}      </span></td><td>0.006914082                                                                  </td><td>0.4000000                                                                    </td><td>1.565460                                                                     </td><td>68                                                                           </td></tr>\n",
       "\t<tr><td><span style=white-space:pre-wrap>{pasta} =&gt; {whole milk}           </span></td><td>0.006100661                                                                  </td><td>0.4054054                                                                    </td><td>1.586614                                                                     </td><td>60                                                                           </td></tr>\n",
       "\t<tr><td><span style=white-space:pre-wrap>{herbs} =&gt; {root vegetables}      </span></td><td>0.007015760                                                                  </td><td>0.4312500                                                                    </td><td>3.956477                                                                     </td><td>69                                                                           </td></tr>\n",
       "\t<tr><td><span style=white-space:pre-wrap>{herbs} =&gt; {other vegetables}     </span></td><td>0.007727504                                                                  </td><td>0.4750000                                                                    </td><td>2.454874                                                                     </td><td>76                                                                           </td></tr>\n",
       "\t<tr><td><span style=white-space:pre-wrap>{herbs} =&gt; {whole milk}           </span></td><td>0.007727504                                                                  </td><td>0.4750000                                                                    </td><td>1.858983                                                                     </td><td>76                                                                           </td></tr>\n",
       "\t<tr><td>{processed cheese} =&gt; {whole milk}</td><td>0.007015760                          </td><td>0.4233129                            </td><td>1.656698                             </td><td>69                                   </td></tr>\n",
       "</tbody>\n",
       "</table>\n"
      ],
      "text/latex": [
       "\\begin{tabular}{r|lllll}\n",
       " rules & support & confidence & lift & count\\\\\n",
       "\\hline\n",
       "\t \\{pot plants\\} => \\{whole milk\\}       & 0.006914082                                & 0.4000000                                  & 1.565460                                   & 68                                        \\\\\n",
       "\t \\{pasta\\} => \\{whole milk\\}            & 0.006100661                                & 0.4054054                                  & 1.586614                                   & 60                                        \\\\\n",
       "\t \\{herbs\\} => \\{root vegetables\\}       & 0.007015760                                & 0.4312500                                  & 3.956477                                   & 69                                        \\\\\n",
       "\t \\{herbs\\} => \\{other vegetables\\}      & 0.007727504                                & 0.4750000                                  & 2.454874                                   & 76                                        \\\\\n",
       "\t \\{herbs\\} => \\{whole milk\\}            & 0.007727504                                & 0.4750000                                  & 1.858983                                   & 76                                        \\\\\n",
       "\t \\{processed cheese\\} => \\{whole milk\\} & 0.007015760                                & 0.4233129                                  & 1.656698                                   & 69                                        \\\\\n",
       "\\end{tabular}\n"
      ],
      "text/markdown": [
       "\n",
       "rules | support | confidence | lift | count | \n",
       "|---|---|---|---|---|---|\n",
       "| {pot plants} => {whole milk}       | 0.006914082                        | 0.4000000                          | 1.565460                           | 68                                 | \n",
       "| {pasta} => {whole milk}            | 0.006100661                        | 0.4054054                          | 1.586614                           | 60                                 | \n",
       "| {herbs} => {root vegetables}       | 0.007015760                        | 0.4312500                          | 3.956477                           | 69                                 | \n",
       "| {herbs} => {other vegetables}      | 0.007727504                        | 0.4750000                          | 2.454874                           | 76                                 | \n",
       "| {herbs} => {whole milk}            | 0.007727504                        | 0.4750000                          | 1.858983                           | 76                                 | \n",
       "| {processed cheese} => {whole milk} | 0.007015760                        | 0.4233129                          | 1.656698                           | 69                                 | \n",
       "\n",
       "\n"
      ],
      "text/plain": [
       "  rules                              support     confidence lift     count\n",
       "1 {pot plants} => {whole milk}       0.006914082 0.4000000  1.565460 68   \n",
       "2 {pasta} => {whole milk}            0.006100661 0.4054054  1.586614 60   \n",
       "3 {herbs} => {root vegetables}       0.007015760 0.4312500  3.956477 69   \n",
       "4 {herbs} => {other vegetables}      0.007727504 0.4750000  2.454874 76   \n",
       "5 {herbs} => {whole milk}            0.007727504 0.4750000  1.858983 76   \n",
       "6 {processed cheese} => {whole milk} 0.007015760 0.4233129  1.656698 69   "
      ]
     },
     "metadata": {},
     "output_type": "display_data"
    }
   ],
   "source": [
    "head(grules_df)"
   ]
  },
  {
   "cell_type": "markdown",
   "metadata": {},
   "source": [
    "Um den Groceries-Datensatz auch in Python verwenden zu können, schreiben wir ihn noch in eine Datei:"
   ]
  },
  {
   "cell_type": "code",
   "execution_count": 20,
   "metadata": {
    "collapsed": true
   },
   "outputs": [],
   "source": [
    "write(g, file = \"data/groceries_r_quoted.csv\", sep = \",\", quote = TRUE)"
   ]
  },
  {
   "cell_type": "markdown",
   "metadata": {},
   "source": [
    "Diese Datei werden wir dann für die [praktische Umsetzung in Python](2017-12-15_RvS_Assoziationsanalyse_Python.ipynb) wieder einlesen."
   ]
  }
 ],
 "metadata": {
  "kernelspec": {
   "display_name": "R",
   "language": "R",
   "name": "ir"
  },
  "language_info": {
   "codemirror_mode": "r",
   "file_extension": ".r",
   "mimetype": "text/x-r-source",
   "name": "R",
   "pygments_lexer": "r",
   "version": "3.3.2"
  },
  "latex_envs": {
   "LaTeX_envs_menu_present": true,
   "autocomplete": true,
   "bibliofile": "biblio.bib",
   "cite_by": "apalike",
   "current_citInitial": 1,
   "eqLabelWithNumbers": true,
   "eqNumInitial": 1,
   "hotkeys": {
    "equation": "Ctrl-E",
    "itemize": "Ctrl-I"
   },
   "labels_anchors": false,
   "latex_user_defs": false,
   "report_style_numbering": false,
   "user_envs_cfg": false
  }
 },
 "nbformat": 4,
 "nbformat_minor": 2
}
