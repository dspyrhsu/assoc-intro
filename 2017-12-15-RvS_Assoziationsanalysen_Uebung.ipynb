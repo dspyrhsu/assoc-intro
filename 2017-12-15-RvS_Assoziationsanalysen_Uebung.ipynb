{
 "cells": [
  {
   "cell_type": "markdown",
   "metadata": {},
   "source": [
    "# Übungen zu Assoziationsanalysen"
   ]
  },
  {
   "cell_type": "markdown",
   "metadata": {},
   "source": [
    "> **Zu beachten:** Die Abgabe muss diesmal zwingend ein Archiv (zip, 7z, ...) sein, da Sie mehrere Notebooks anlegen müssen!\n",
    "\n",
    "## Aufgabe 1\n",
    "\n",
    "Schauen Sie die [Dokumentation zu Assoziationsreglen in `Mlxtend`](http://rasbt.github.io/mlxtend/user_guide/frequent_patterns/association_rules/) an und beantworten Sie folgende Fragen:\n",
    "1. Wie berechnet sich die *leverage*-Metrik?\n",
    "2. Wie berechnet sich die *conviction*-Metrik?\n",
    "3. Was wären gute deutsche Begriffe für *leverage* und *conviction* in diesem Kontext?"
   ]
  },
  {
   "cell_type": "markdown",
   "metadata": {},
   "source": [
    "## Offene Daten aus NYC\n",
    "Für die beiden folgenden Aufgaben verwenden wir einen Datensatz, der eine Reduktion eines Datensatzes darstellt, der vom [Open Data Portal New Yorks](https://opendata.cityofnewyork.us/) heruntergeladen werden kann. Genauer gesagt handelt es sich um die Spalten `certification`, `Ethnicity`, `City` und `ZIP` des Datensatzes der [Certified Businesses](https://data.cityofnewyork.us/Business/M-WBE-LBE-and-EBE-Certified-Business-List/ci93-uc8s), mit dem auch verdeutlicht werden soll, dass Assoziationsanalyse auch dann Sinn ergeben kann, wenn es sich nicht um Transaktionen aus Verkäufen handelt, selbst wenn die gesamte Terminologie aus diesem Bereich abgeleitet wurde.\n",
    "\n",
    "Der Datensatz befindet sich im Unterordner [data](data/NYC_CBL_20171211.txt).\n",
    "\n",
    "Es geht in den Aufgaben darum, Regeln mit\n",
    "* `support` von mindestens 1% und\n",
    "* `confidence` von mindestens 25%\n",
    "zu finden.\n",
    "\n",
    "Für beide Aufgaben sind jeweils **eigene Notebooks** anzulegen.\n",
    "\n",
    "> **Bemerkung:** Die Idee zur Verwendung des Datensatzes stammt vom Github-Nutzer [asaini](https://github.com/asaini), der vor einigen Jahren bereits eine eigene Implemetierung des [a-priori-Algorithmus](https://github.com/asaini/Apriori) veröffentlicht und dabei eine ältere Version des Datensatzes zum Testen bereit gestellt hat."
   ]
  },
  {
   "cell_type": "markdown",
   "metadata": {},
   "source": [
    "## Aufgabe 2\n",
    "\n",
    "Verwenden Sie R, um den Datensatz auf Assoziationsregeln zu untersuchen. Gehen Sie dabei analog zu dem vorgestellten Beispiel vor. Dabei ist insbesondere die Visualisierung der Matrix geeignet anzupassen und statt der Beerenregeln suchen wir nun *Latinoregeln*. Überlegen Sie selbst, was dies bedeuten könnte."
   ]
  },
  {
   "cell_type": "markdown",
   "metadata": {},
   "source": [
    "## Aufgabe 3\n",
    "\n",
    "Verwenden Sie Python, um den Datensatz auf Assoziationsregeln zu untersuchen. Gehen Sie dabei analog zu dem vorgestellten Beispiel vor. Denken SIe daran, dass wir statt der Beerenregeln nun *Latinoregeln* suchen. Überlegen Sie selbst, was dies bedeuten könnte."
   ]
  }
 ],
 "metadata": {
  "kernelspec": {
   "display_name": "Python 3",
   "language": "python",
   "name": "python3"
  },
  "language_info": {
   "codemirror_mode": {
    "name": "ipython",
    "version": 3
   },
   "file_extension": ".py",
   "mimetype": "text/x-python",
   "name": "python",
   "nbconvert_exporter": "python",
   "pygments_lexer": "ipython3",
   "version": "3.6.3"
  },
  "latex_envs": {
   "LaTeX_envs_menu_present": true,
   "autocomplete": true,
   "bibliofile": "biblio.bib",
   "cite_by": "apalike",
   "current_citInitial": 1,
   "eqLabelWithNumbers": true,
   "eqNumInitial": 1,
   "hotkeys": {
    "equation": "Ctrl-E",
    "itemize": "Ctrl-I"
   },
   "labels_anchors": false,
   "latex_user_defs": false,
   "report_style_numbering": false,
   "user_envs_cfg": false
  }
 },
 "nbformat": 4,
 "nbformat_minor": 2
}
